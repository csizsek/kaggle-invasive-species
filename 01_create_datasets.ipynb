{
 "cells": [
  {
   "cell_type": "code",
   "execution_count": 1,
   "metadata": {},
   "outputs": [
    {
     "name": "stderr",
     "output_type": "stream",
     "text": [
      "Using TensorFlow backend.\n",
      "/usr/local/lib/python2.7/dist-packages/sklearn/cross_validation.py:44: DeprecationWarning: This module was deprecated in version 0.18 in favor of the model_selection module into which all the refactored classes and functions are moved. Also note that the interface of the new CV iterators are different from that of this module. This module will be removed in 0.20.\n",
      "  \"This module will be removed in 0.20.\", DeprecationWarning)\n",
      "/usr/local/lib/python2.7/dist-packages/sklearn/grid_search.py:43: DeprecationWarning: This module was deprecated in version 0.18 in favor of the model_selection module into which all the refactored classes and functions are moved. This module will be removed in 0.20.\n",
      "  DeprecationWarning)\n",
      "/usr/local/lib/python2.7/dist-packages/sklearn/lda.py:6: DeprecationWarning: lda.LDA has been moved to discriminant_analysis.LinearDiscriminantAnalysis in 0.17 and will be removed in 0.19\n",
      "  \"in 0.17 and will be removed in 0.19\", DeprecationWarning)\n",
      "/usr/local/lib/python2.7/dist-packages/sklearn/learning_curve.py:23: DeprecationWarning: This module was deprecated in version 0.18 in favor of the model_selection module into which all the functions are moved. This module will be removed in 0.20\n",
      "  DeprecationWarning)\n",
      "/usr/local/lib/python2.7/dist-packages/sklearn/qda.py:6: DeprecationWarning: qda.QDA has been moved to discriminant_analysis.QuadraticDiscriminantAnalysis in 0.17 and will be removed in 0.19.\n",
      "  \"in 0.17 and will be removed in 0.19.\", DeprecationWarning)\n"
     ]
    }
   ],
   "source": [
    "import base64\n",
    "import collections\n",
    "import copy\n",
    "import datetime\n",
    "import itertools\n",
    "import json\n",
    "import math\n",
    "import os\n",
    "import operator\n",
    "import pickle\n",
    "import random\n",
    "import re\n",
    "import shutil\n",
    "import sys\n",
    "import time\n",
    "\n",
    "import cv2\n",
    "import Image\n",
    "import keras\n",
    "from keras import *\n",
    "from keras.preprocessing import image\n",
    "from keras.preprocessing.image import ImageDataGenerator\n",
    "import matplotlib as mpl\n",
    "import matplotlib.pyplot as plt\n",
    "import numpy as np\n",
    "import pandas as pd\n",
    "import PIL as pil\n",
    "import pylab\n",
    "import scipy\n",
    "import seaborn as sns\n",
    "import sklearn\n",
    "from sklearn import *\n",
    "import statsmodels as sm\n",
    "import tensorflow as tf\n",
    "\n",
    "np.random.seed(1337)\n",
    "\n",
    "%matplotlib inline\n",
    "\n",
    "sns.set(font_scale=1.3)\n",
    "mpl.rcParams['figure.figsize'] = 20, 12\n",
    "sns.set_style('whitegrid')\n",
    "sns.set_palette(sns.color_palette('muted'))\n",
    "\n",
    "linewidth = 1.0\n",
    "dotsize = 15"
   ]
  },
  {
   "cell_type": "code",
   "execution_count": 6,
   "metadata": {
    "collapsed": true
   },
   "outputs": [],
   "source": [
    "base_dir = '/media/ntfs/data/invasive_species/'\n",
    "input_dir = os.path.join(base_dir, 'input')\n",
    "tmp_dir = os.path.join(base_dir, 'tmp')\n",
    "output_dir = os.path.join(base_dir, 'output')"
   ]
  },
  {
   "cell_type": "code",
   "execution_count": null,
   "metadata": {},
   "outputs": [],
   "source": [
    "train_dir = os.path.join(tmp_dir, 'train')\n",
    "os.mkdir(train_dir)\n",
    "\n",
    "val_dir = os.path.join(tmp_dir, 'val')\n",
    "os.mkdir(val_dir)\n",
    "\n",
    "test_dir = os.path.join(tmp_dir, 'test')\n",
    "os.mkdir(test_dir)"
   ]
  },
  {
   "cell_type": "code",
   "execution_count": null,
   "metadata": {},
   "outputs": [],
   "source": [
    "train_pos_dir = os.path.join(train_dir, 'pos')\n",
    "os.mkdir(train_pos_dir)\n",
    "\n",
    "train_neg_dir = os.path.join(train_dir, 'neg')\n",
    "os.mkdir(train_neg_dir)\n",
    "\n",
    "val_pos_dir = os.path.join(val_dir, 'pos')\n",
    "os.mkdir(val_pos_dir)\n",
    "\n",
    "val_neg_dir = os.path.join(val_dir, 'neg')\n",
    "os.mkdir(val_neg_dir)"
   ]
  },
  {
   "cell_type": "code",
   "execution_count": 18,
   "metadata": {},
   "outputs": [
    {
     "name": "stdout",
     "output_type": "stream",
     "text": [
      "2295\n",
      "------------------------------\n",
      "      name  invasive\n",
      "176    177         1\n",
      "133    134         1\n",
      "636    637         1\n",
      "690    691         1\n",
      "1871  1872         1\n",
      "511    512         1\n",
      "5        6         0\n",
      "1194  1195         1\n",
      "1846  1847         0\n",
      "490    491         1\n",
      "------------------------------\n",
      "1    1448\n",
      "0     847\n",
      "Name: invasive, dtype: int64\n"
     ]
    }
   ],
   "source": [
    "d = pd.read_csv(input_dir + '/train_labels.csv')\n",
    "d = train.sample(frac=1.0)\n",
    "\n",
    "print len(d)\n",
    "print '-' * 30\n",
    "print d.head(10)\n",
    "print '-' * 30\n",
    "print d.invasive.value_counts()"
   ]
  },
  {
   "cell_type": "code",
   "execution_count": 22,
   "metadata": {},
   "outputs": [],
   "source": [
    "train_frac = 0.8\n",
    "train_cnt = int(train_frac * len(d))\n",
    "\n",
    "train = d[:train_cnt]\n",
    "train_pos_names = train[train.invasive == 1].name.tolist()\n",
    "train_neg_names = train[train.invasive == 0].name.tolist()\n",
    "\n",
    "val = d[train_cnt:]\n",
    "val_pos_names = val[val.invasive == 1].name.tolist()\n",
    "val_neg_names = val[val.invasive == 0].name.tolist()"
   ]
  },
  {
   "cell_type": "code",
   "execution_count": 34,
   "metadata": {},
   "outputs": [],
   "source": [
    "dirs_names = [\n",
    "    (train_pos_dir, train_pos_names),\n",
    "    (train_neg_dir, train_neg_names),\n",
    "    (val_pos_dir, val_pos_names),\n",
    "    (val_neg_dir, val_neg_names),\n",
    "]\n",
    "\n",
    "for p in dirs_names:\n",
    "    for n in p[1]:\n",
    "        shutil.copyfile(input_dir + '/train/{0}.jpg'.format(n), p[0] + '/{0}.jpg'.format(n))"
   ]
  }
 ],
 "metadata": {
  "kernelspec": {
   "display_name": "Python 2",
   "language": "python",
   "name": "python2"
  },
  "language_info": {
   "codemirror_mode": {
    "name": "ipython",
    "version": 2
   },
   "file_extension": ".py",
   "mimetype": "text/x-python",
   "name": "python",
   "nbconvert_exporter": "python",
   "pygments_lexer": "ipython2",
   "version": "2.7.12"
  }
 },
 "nbformat": 4,
 "nbformat_minor": 2
}
