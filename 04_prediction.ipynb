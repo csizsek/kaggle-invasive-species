{
 "cells": [
  {
   "cell_type": "code",
   "execution_count": 1,
   "metadata": {},
   "outputs": [
    {
     "name": "stderr",
     "output_type": "stream",
     "text": [
      "Using TensorFlow backend.\n",
      "/usr/local/lib/python2.7/dist-packages/sklearn/cross_validation.py:44: DeprecationWarning: This module was deprecated in version 0.18 in favor of the model_selection module into which all the refactored classes and functions are moved. Also note that the interface of the new CV iterators are different from that of this module. This module will be removed in 0.20.\n",
      "  \"This module will be removed in 0.20.\", DeprecationWarning)\n",
      "/usr/local/lib/python2.7/dist-packages/sklearn/grid_search.py:43: DeprecationWarning: This module was deprecated in version 0.18 in favor of the model_selection module into which all the refactored classes and functions are moved. This module will be removed in 0.20.\n",
      "  DeprecationWarning)\n",
      "/usr/local/lib/python2.7/dist-packages/sklearn/lda.py:6: DeprecationWarning: lda.LDA has been moved to discriminant_analysis.LinearDiscriminantAnalysis in 0.17 and will be removed in 0.19\n",
      "  \"in 0.17 and will be removed in 0.19\", DeprecationWarning)\n",
      "/usr/local/lib/python2.7/dist-packages/sklearn/learning_curve.py:23: DeprecationWarning: This module was deprecated in version 0.18 in favor of the model_selection module into which all the functions are moved. This module will be removed in 0.20\n",
      "  DeprecationWarning)\n",
      "/usr/local/lib/python2.7/dist-packages/sklearn/qda.py:6: DeprecationWarning: qda.QDA has been moved to discriminant_analysis.QuadraticDiscriminantAnalysis in 0.17 and will be removed in 0.19.\n",
      "  \"in 0.17 and will be removed in 0.19.\", DeprecationWarning)\n"
     ]
    }
   ],
   "source": [
    "import base64\n",
    "import collections\n",
    "import copy\n",
    "import datetime\n",
    "import itertools\n",
    "import json\n",
    "import math\n",
    "import os\n",
    "import operator\n",
    "import pickle\n",
    "import random\n",
    "import re\n",
    "import shutil\n",
    "import sys\n",
    "import time\n",
    "\n",
    "import cv2\n",
    "import Image\n",
    "import keras\n",
    "from keras import *\n",
    "from keras.preprocessing import image\n",
    "from keras.preprocessing.image import ImageDataGenerator\n",
    "import matplotlib as mpl\n",
    "import matplotlib.pyplot as plt\n",
    "import numpy as np\n",
    "import pandas as pd\n",
    "import PIL as pil\n",
    "import pylab\n",
    "import scipy\n",
    "import seaborn as sns\n",
    "import sklearn\n",
    "from sklearn import *\n",
    "import statsmodels as sm\n",
    "import tensorflow as tf\n",
    "\n",
    "np.random.seed(1337)\n",
    "\n",
    "%matplotlib inline\n",
    "\n",
    "sns.set(font_scale=1.3)\n",
    "mpl.rcParams['figure.figsize'] = 20, 12\n",
    "sns.set_style('whitegrid')\n",
    "sns.set_palette(sns.color_palette('muted'))\n",
    "\n",
    "linewidth = 1.0\n",
    "dotsize = 15"
   ]
  },
  {
   "cell_type": "code",
   "execution_count": 2,
   "metadata": {
    "collapsed": true
   },
   "outputs": [],
   "source": [
    "base_dir = '/media/ntfs/data/invasive_species/'\n",
    "input_dir = os.path.join(base_dir, 'input')\n",
    "tmp_dir = os.path.join(base_dir, 'tmp')\n",
    "output_dir = os.path.join(base_dir, 'output')"
   ]
  },
  {
   "cell_type": "code",
   "execution_count": 3,
   "metadata": {
    "collapsed": true
   },
   "outputs": [],
   "source": [
    "train_dir = os.path.join(tmp_dir, 'train')\n",
    "val_dir = os.path.join(tmp_dir, 'val')\n",
    "test_dir = os.path.join(input_dir, 'test')"
   ]
  },
  {
   "cell_type": "code",
   "execution_count": 4,
   "metadata": {
    "collapsed": true
   },
   "outputs": [],
   "source": [
    "train_pos_dir = os.path.join(train_dir, 'pos')\n",
    "train_neg_dir = os.path.join(train_dir, 'neg')\n",
    "val_pos_dir = os.path.join(val_dir, 'pos')\n",
    "val_neg_dir = os.path.join(val_dir, 'neg')"
   ]
  },
  {
   "cell_type": "code",
   "execution_count": 5,
   "metadata": {},
   "outputs": [
    {
     "name": "stdout",
     "output_type": "stream",
     "text": [
      "_________________________________________________________________\n",
      "Layer (type)                 Output Shape              Param #   \n",
      "=================================================================\n",
      "vgg16 (Model)                (None, 13, 18, 512)       14714688  \n",
      "_________________________________________________________________\n",
      "flatten_1 (Flatten)          (None, 119808)            0         \n",
      "_________________________________________________________________\n",
      "dense_1 (Dense)              (None, 256)               30671104  \n",
      "_________________________________________________________________\n",
      "dense_2 (Dense)              (None, 1)                 257       \n",
      "=================================================================\n",
      "Total params: 45,386,049\n",
      "Trainable params: 37,750,785\n",
      "Non-trainable params: 7,635,264\n",
      "_________________________________________________________________\n"
     ]
    }
   ],
   "source": [
    "model = keras.models.load_model('vgg16_01.h5')\n",
    "model.summary()"
   ]
  },
  {
   "cell_type": "code",
   "execution_count": 6,
   "metadata": {
    "collapsed": true
   },
   "outputs": [],
   "source": [
    "img_size = (433, 577)"
   ]
  },
  {
   "cell_type": "code",
   "execution_count": 7,
   "metadata": {},
   "outputs": [],
   "source": [
    "# inv = []\n",
    "# for i in range(1, 1532):\n",
    "#     img = Image.open('/media/ntfs/data/invasive_species/input/test/foo/{0}.jpg'.format(i))\n",
    "#     img = np.asarray(img.resize((577, 433)))\n",
    "#     img.resize(1, 433, 577, 3)\n",
    "#     inv.append(model.predict_proba(img, verbose=False)[0][0])\n",
    "    \n",
    "# names = range(1, 1532)\n",
    "\n",
    "# s = pd.DataFrame({'name': names, 'invasive': inv})\n",
    "# s = s[['name', 'invasive']]\n",
    "# print s.head(20)\n",
    "# s.to_csv(output_dir + '/s_02.csv', index=False)"
   ]
  },
  {
   "cell_type": "code",
   "execution_count": 14,
   "metadata": {},
   "outputs": [
    {
     "name": "stdout",
     "output_type": "stream",
     "text": [
      "Found 1531 images belonging to 1 classes.\n"
     ]
    }
   ],
   "source": [
    "test_datagen = ImageDataGenerator(rescale=1./255)\n",
    "\n",
    "test_generator = test_datagen.flow_from_directory(\n",
    "                            test_dir,\n",
    "                            target_size=img_size,\n",
    "                            batch_size=1,\n",
    "                            class_mode='binary',\n",
    "                            shuffle=False)\n",
    "\n",
    "invasive = model.predict_generator(test_generator, 1531)"
   ]
  },
  {
   "cell_type": "code",
   "execution_count": 15,
   "metadata": {},
   "outputs": [],
   "source": [
    "names = [ int(n[4:][:-4]) for n in test_generator.filenames]"
   ]
  },
  {
   "cell_type": "code",
   "execution_count": 16,
   "metadata": {},
   "outputs": [
    {
     "name": "stdout",
     "output_type": "stream",
     "text": [
      "      name      invasive\n",
      "2        1  1.000000e+00\n",
      "632      2  3.166607e-03\n",
      "738      3  2.745320e-02\n",
      "861      4  1.549785e-03\n",
      "967      5  1.000000e+00\n",
      "1073     6  2.403014e-03\n",
      "1179     7  1.476618e-02\n",
      "1318     8  1.000000e+00\n",
      "1424     9  1.000000e+00\n",
      "3       10  8.245123e-05\n",
      "127     11  2.981808e-06\n",
      "232     12  9.921021e-03\n",
      "338     13  2.277796e-05\n",
      "443     14  1.000000e+00\n",
      "549     15  1.268112e-24\n",
      "590     16  7.360006e-03\n",
      "600     17  3.255603e-03\n",
      "611     18  3.546090e-05\n",
      "621     19  1.094942e-23\n",
      "633     20  3.592192e-03\n"
     ]
    }
   ],
   "source": [
    "s = pd.DataFrame({'name': names, 'invasive': invasive.reshape(1531)}).sort_values('name')\n",
    "s = s[['name', 'invasive']]\n",
    "print s.head(20)\n",
    "s.to_csv(output_dir + '/s_03.csv', index=False)"
   ]
  },
  {
   "cell_type": "code",
   "execution_count": null,
   "metadata": {
    "collapsed": true
   },
   "outputs": [],
   "source": []
  }
 ],
 "metadata": {
  "kernelspec": {
   "display_name": "Python 2",
   "language": "python",
   "name": "python2"
  },
  "language_info": {
   "codemirror_mode": {
    "name": "ipython",
    "version": 2
   },
   "file_extension": ".py",
   "mimetype": "text/x-python",
   "name": "python",
   "nbconvert_exporter": "python",
   "pygments_lexer": "ipython2",
   "version": "2.7.12"
  }
 },
 "nbformat": 4,
 "nbformat_minor": 2
}
